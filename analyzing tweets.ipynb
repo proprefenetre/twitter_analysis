{
 "cells": [
  {
   "cell_type": "markdown",
   "metadata": {},
   "source": [
    "# Analyzing tweets with PCA and KMeans"
   ]
  },
  {
   "cell_type": "code",
   "execution_count": 1,
   "metadata": {},
   "outputs": [],
   "source": [
    "import collections\n",
    "from html import unescape\n",
    "import matplotlib.pyplot as plt\n",
    "import numpy as np\n",
    "import pandas as pd\n",
    "import json\n",
    "import re\n",
    "from sklearn.decomposition import PCA\n",
    "from sklearn.manifold import MDS\n",
    "from sklearn.feature_extraction.text import TfidfVectorizer\n",
    "from sklearn.feature_extraction.text import CountVectorizer\n",
    "from sklearn.metrics.pairwise import cosine_similarity\n",
    "from sklearn.metrics.pairwise import cosine_distances\n",
    "from sklearn.cluster import KMeans\n",
    "from TweetStore import TweetStore\n",
    "import unicodedata\n",
    "plt.style.use('ggplot')\n",
    "%matplotlib inline\n",
    "\n",
    "\n",
    "def flatten(d, parent_key='', sep='_'):\n",
    "    items = []\n",
    "    for k, v in d.items():\n",
    "        new_key = parent_key + sep + k if parent_key else k\n",
    "        if isinstance(v, collections.MutableMapping):\n",
    "            items.extend(flatten(v, new_key, sep=sep).items()) \n",
    "        else:\n",
    "            items.append((new_key, v))\n",
    "    return dict(items)"
   ]
  },
  {
   "cell_type": "code",
   "execution_count": 2,
   "metadata": {
    "collapsed": true
   },
   "outputs": [],
   "source": [
    "# COUCH_SERVER = 'http://127.0.0.1:5984/'\n",
    "# db = TweetStore('twitter_belgium_inc', COUCH_SERVER)\n",
    "# db2 = TweetStore('twitter_locations', COUCH_SERVER)"
   ]
  },
  {
   "cell_type": "code",
   "execution_count": 3,
   "metadata": {
    "collapsed": true
   },
   "outputs": [],
   "source": [
    "# _tweets = [flatten(t) for t in db.get_tweets()]\n",
    "# _tweets2 = [flatten(t) for t in db2.get_tweets()]"
   ]
  },
  {
   "cell_type": "code",
   "execution_count": 4,
   "metadata": {},
   "outputs": [],
   "source": [
    "# with open('../data/tweets.json', 'w') as f:\n",
    "#     json.dump(_tweets, f)\n",
    "# with open('../data/tweets2.json', 'w') as f:\n",
    "#     json.dump(_tweets2, f)"
   ]
  },
  {
   "cell_type": "code",
   "execution_count": 5,
   "metadata": {
    "collapsed": true
   },
   "outputs": [],
   "source": [
    "with open('../data/tweets.json') as f:\n",
    "    _tweets = json.load(f)\n",
    "with open('../data/tweets2.json') as f:\n",
    "    _tweets2 = json.load(f)"
   ]
  },
  {
   "cell_type": "code",
   "execution_count": 6,
   "metadata": {},
   "outputs": [
    {
     "name": "stdout",
     "output_type": "stream",
     "text": [
      "192416 119440 311856\n"
     ]
    }
   ],
   "source": [
    "all_tweets = _tweets + _tweets2\n",
    "print(len(_tweets), len(_tweets2), len(all_tweets))"
   ]
  },
  {
   "cell_type": "code",
   "execution_count": 7,
   "metadata": {},
   "outputs": [
    {
     "data": {
      "text/plain": [
       "(311856, 164)"
      ]
     },
     "execution_count": 7,
     "metadata": {},
     "output_type": "execute_result"
    }
   ],
   "source": [
    "# original dataframe\n",
    "df_O = pd.DataFrame(all_tweets)\n",
    "df_O.shape"
   ]
  },
  {
   "cell_type": "code",
   "execution_count": 8,
   "metadata": {},
   "outputs": [
    {
     "name": "stdout",
     "output_type": "stream",
     "text": [
      "joghurt ist wie  \n",
      "mairlynd perhaps perhaps in der strickbar dusseldorf anzukuscheln auch heute im stricktreff \n",
      "brendairwin amypoops lynnbanks dreamon you have huge mouses in ireland xxx\n",
      "\n",
      "[[52.1638205, 5.395513], [52.35472800000001, 4.9040535], [50.865085, 4.155990500000001]]\n",
      "\n",
      "39.61663274393831\n",
      "\n",
      "(30, 30)\n"
     ]
    }
   ],
   "source": [
    "# some functions\n",
    "sample = df_O.sample(n=30)\n",
    "\n",
    "# create id maps for translating place names\n",
    "def createMap(k_series, v_series):\n",
    "    keys = list(k_series)\n",
    "    vals = list(v_series)\n",
    "    \n",
    "    return dict({(i,n) for i, n in zip(keys, vals)})\n",
    "\n",
    "def translate(df):\n",
    "    en = df[df.user_lang == 'en']\n",
    "    n_en = df[df.user_lang != 'en']\n",
    "    en_idMap = createMap(en.place_id, en.place_name)\n",
    "    n_en_idMap = createMap(n_en.place_id, n_en.place_name)\n",
    "    for k,v in n_en_idMap.items():\n",
    "        if k not in en_idMap:\n",
    "            en_idMap[k] = v\n",
    "            \n",
    "    return df[\"place_id\"].map(en_idMap)\n",
    "\n",
    "\n",
    "# text preparation\n",
    "url_re = re.compile(r'(https?)?:\\/\\/(\\w\\.\\w.)\\/\\w*')\n",
    "\n",
    "def remove_accents(txt):\n",
    "    _nfkd = unicodedata.normalize('NFKD', txt)\n",
    "    return ''.join([c for c in _nfkd if not unicodedata.combining(c)])\n",
    "\n",
    "def prep(txt):\n",
    "    txt = re.sub(url_re, '', txt)\n",
    "    txt = unescape(txt)\n",
    "    txt = remove_accents(txt)\n",
    "    txt = txt.replace('\\n', ' ')\n",
    "    txt = txt.replace('\\t', ' ')\n",
    "    \n",
    "    return ''.join([w.lower() for w in txt if w.isalpha() or w.isspace()])\n",
    "\n",
    "# test:\n",
    "tweets = ['Joghurt ist wie 🦄 https://t.co/jzcstdokbG', \n",
    "       \"#mairlynd Perhaps Perhaps in der #StrickBar #düsseldorf anzukuscheln auch heute im #Stricktreff… https://t.co/l3TzJcFMrw\",\n",
    "         \"@brendairwin2001 @amypoops @lynnbanks10 @dreamon you have huge mouses in Ireland 😁🐭🐭🐭xxx\"]\n",
    "\n",
    "for tweet in tweets:\n",
    "    print(prep(tweet))\n",
    "print()\n",
    "# joghurt ist wie  \n",
    "# mairlynd perhaps perhaps in der strickbar dusseldorf anzukuscheln auch heute im stricktreff \n",
    "# brendairwin amypoops lynnbanks dreamon you have huge mouses in ireland xxx\n",
    "\n",
    "\n",
    "# print pca components + the variance they explain\n",
    "def loadings(vec, decomp):\n",
    "    load = decomp.components_\n",
    "    # for x, y, feat in zip(load[:,0], load[:,1], vec.get_feature_names()):\n",
    "    for l in zip(load[:,0], load[:,1], vec.get_feature_names()):\n",
    "        print('%f, %f, %s' % l)\n",
    "    print('variance explained: {}'.format(decomp.explained_variance_ratio_.sum()))\n",
    "\n",
    "\n",
    "# calculate the center of a bounding box\n",
    "def center(b_box):\n",
    "    box = [x for y in b_box for x in y]\n",
    "    # het midden van de rechthoek is het gemiddelde van de coordinaten\n",
    "    c = list(map(lambda x: x/4, [sum(x) for x in zip(box[0], box[1], box[2], box[3])]))\n",
    "    # because twitter uses the geojson format for coordinates, we have to reverse them \n",
    "    # if we don't want to end up in the (pacifc | atlantic) ocean\n",
    "    c.reverse()\n",
    "    return list(c)\n",
    "\n",
    "# test (checked coordinates using http://www.hamstermap.com/quickmap.php)\n",
    "boxes = sample.place_bounding_box_coordinates\n",
    "\n",
    "centers = [center(box) for box in boxes]\n",
    "print(centers[:3])\n",
    "print()\n",
    "\n",
    "from math import asin, atan2, cos, radians, sin, sqrt\n",
    "# Earth's radius in km\n",
    "R = 6371.009\n",
    "\n",
    "# calculate distance with the haversine formula (https://www.wikipedia.org/???)\n",
    "def haversine(f, t):\n",
    "    \"\"\" f: 'from' coordinate\n",
    "        t: 'to' coordinate\n",
    "        returns: distance between f and t in km\n",
    "    \"\"\"\n",
    "    f_lat, f_long = map(radians, f)\n",
    "    t_lat, t_long = map(radians, t)\n",
    "\n",
    "    dLat = t_lat - f_lat\n",
    "    dLon = t_long - f_long\n",
    "\n",
    "    a = sin(dLat/2) * sin(dLat/2) + cos(f_lat) * cos(t_lat) * sin(dLon/2) * sin(dLon/2)\n",
    "    c = 2 * atan2(sqrt(a), sqrt(1-a))\n",
    "\n",
    "    return R * c\n",
    "\n",
    "# test\n",
    "print(haversine(centers[0], centers[1]))\n",
    "print()\n",
    "\n",
    "\n",
    "# create a distance matrix\n",
    "def haversine_distances(coords):\n",
    "    \"\"\" coords: list of coordinates\n",
    "        returns: distance matrix \n",
    "    \"\"\"\n",
    "    M = []\n",
    "    for f in coords:\n",
    "        d = [haversine(f, t) for t in coords]\n",
    "        M.append(d)\n",
    "    \n",
    "    return np.matrix(M)\n",
    "\n",
    "# test\n",
    "dist = haversine_distances(centers)\n",
    "print(dist.shape)"
   ]
  },
  {
   "cell_type": "code",
   "execution_count": 9,
   "metadata": {
    "scrolled": true
   },
   "outputs": [
    {
     "data": {
      "text/plain": [
       "(311780, 10)"
      ]
     },
     "execution_count": 9,
     "metadata": {},
     "output_type": "execute_result"
    }
   ],
   "source": [
    "df = df_O.copy(deep=True)\n",
    "\n",
    "# select relevant columns\n",
    "df = df[['lang', 'place_bounding_box_coordinates','place_country_code', 'place_id',\n",
    "       'place_name', 'place_place_type', 'text', 'user_lang','user_location']]\n",
    "\n",
    "# translate place names\n",
    "df[\"place_name\"] = translate(df)\n",
    "\n",
    "# get bounding box centers -- drop tweets without coordinates\n",
    "df = df.dropna(subset=[\"place_bounding_box_coordinates\"])\n",
    "df[\"center\"] = df[\"place_bounding_box_coordinates\"].map(center)\n",
    "\n",
    "df.shape"
   ]
  },
  {
   "cell_type": "code",
   "execution_count": 10,
   "metadata": {},
   "outputs": [
    {
     "data": {
      "text/plain": [
       "(311780, 10)"
      ]
     },
     "execution_count": 10,
     "metadata": {},
     "output_type": "execute_result"
    }
   ],
   "source": [
    "df = df.dropna(subset=[\"text\"])\n",
    "df.shape"
   ]
  },
  {
   "cell_type": "code",
   "execution_count": 11,
   "metadata": {
    "collapsed": true
   },
   "outputs": [],
   "source": [
    "df.text = df.text.map(prep)"
   ]
  },
  {
   "cell_type": "markdown",
   "metadata": {},
   "source": [
    "### Creating the bags"
   ]
  },
  {
   "cell_type": "code",
   "execution_count": 12,
   "metadata": {},
   "outputs": [],
   "source": [
    "# per city\n",
    "admin = df.place_place_type.map(lambda x: x == 'city')\n",
    "df_cities = df[admin]\n",
    "\n",
    "cities = {}\n",
    "# use the top 50 of most productive cities for exploratory purposes\n",
    "for c in dict(df_cities.place_name.value_counts()[:50]).keys():\n",
    "     cities[c] = ' '.join(list(df[df.place_name == c].text))\n",
    "\n",
    "names = list(cities.keys())\n",
    "tweets = list(cities.values())"
   ]
  },
  {
   "cell_type": "code",
   "execution_count": 13,
   "metadata": {},
   "outputs": [
    {
     "data": {
      "image/png": "[encoded data removed]",
      "text/plain": [
       "<matplotlib.figure.Figure at 0x7ff9f279cf98>"
      ]
     },
     "metadata": {},
     "output_type": "display_data"
    }
   ],
   "source": [
    "fig = plt.figure(figsize=(12, 6))\n",
    "\n",
    "df_cities.place_name.value_counts().cumsum().plot()\n",
    "fig.autofmt_xdate()\n",
    "plt.show()"
   ]
  },
  {
   "cell_type": "markdown",
   "metadata": {},
   "source": [
    "### Vectorizing"
   ]
  },
  {
   "cell_type": "code",
   "execution_count": 14,
   "metadata": {
    "collapsed": true
   },
   "outputs": [],
   "source": [
    "# vectorize\n",
    "ngram_vec = TfidfVectorizer(max_df=.7, max_features=100000, min_df=.2, use_idf=True, ngram_range=(1,2))\n",
    "\n",
    "M = ngram_vec.fit_transform(tweets)\n",
    "features = ngram_vec.get_feature_names()"
   ]
  },
  {
   "cell_type": "code",
   "execution_count": 15,
   "metadata": {},
   "outputs": [
    {
     "data": {
      "text/plain": [
       "8799"
      ]
     },
     "execution_count": 15,
     "metadata": {},
     "output_type": "execute_result"
    }
   ],
   "source": [
    "len(features)"
   ]
  },
  {
   "cell_type": "markdown",
   "metadata": {},
   "source": [
    "### Clustering"
   ]
  },
  {
   "cell_type": "code",
   "execution_count": 16,
   "metadata": {},
   "outputs": [],
   "source": [
    "# n_clusters=5 (just a guess)\n",
    "num_cls = 5\n",
    "km = KMeans(n_clusters=num_cls)\n",
    "km.fit(M)\n",
    "clusters = km.labels_.tolist()"
   ]
  },
  {
   "cell_type": "code",
   "execution_count": 17,
   "metadata": {},
   "outputs": [],
   "source": [
    "clustered = {'city' : names, 'tweet' : tweets, 'cluster' : clusters}\n",
    "df_km = pd.DataFrame(clustered, index=[clusters], columns=['city', 'tweet', 'cluster'])"
   ]
  },
  {
   "cell_type": "code",
   "execution_count": 18,
   "metadata": {},
   "outputs": [
    {
     "data": {
      "text/plain": [
       "2    23\n",
       "1    12\n",
       "3     7\n",
       "4     5\n",
       "0     3\n",
       "Name: cluster, dtype: int64"
      ]
     },
     "execution_count": 18,
     "metadata": {},
     "output_type": "execute_result"
    }
   ],
   "source": [
    "df_km['cluster'].value_counts()"
   ]
  },
  {
   "cell_type": "markdown",
   "metadata": {},
   "source": [
    "### Visualisation"
   ]
  },
  {
   "cell_type": "code",
   "execution_count": 19,
   "metadata": {},
   "outputs": [
    {
     "name": "stdout",
     "output_type": "stream",
     "text": [
      "Cluster 0 words:\n",
      "mm, rain, wind, hum, temperature, hpa, op onze, meer op, kmh, onze, \n",
      "\n",
      "Cluster 0 cities:\n",
      "Menameradiel, Apeldoorn, Zaanstad, \n",
      "\n",
      "Cluster 1 words:\n",
      "cest, des, jai, pour, mais, est, une, tu, qui, sur, \n",
      "\n",
      "Cluster 1 cities:\n",
      "Tourcoing, Lille, Amiens, Wemmel, Sint-Gillis, Roubaix, Schaarbeek, Villeneuve-d'Ascq, Dunkirk, Liege, Brussels, Thionville, \n",
      "\n",
      "Cluster 2 words:\n",
      "wel, weer, heb, amsterdam, meer, goed, uit, kca, moet, deze, \n",
      "\n",
      "Cluster 2 cities:\n",
      "Louvain, Maastricht, Nijmegen, Rotterdam, Utrecht, Eindhoven, Groningen, Spijkenisse, Deventer, Almere, The Hague, Amersfoort, Arnhem, Enschede, Leyden, Zwolle, Haarlemmermeer, Amsterdam, Haarlem, Tilburg, Dordrecht, Breda, 's-Hertogenbosch, \n",
      "\n",
      "Cluster 3 words:\n",
      "ich, und, ist, nicht, auf, auch, hpa, von, zu, mit, \n",
      "\n",
      "Cluster 3 cities:\n",
      "Duisburg, Düsseldorf, Essen, Dortmund, Cologne, Aachen, Bonn, \n",
      "\n",
      "Cluster 4 words:\n",
      "antwerpen, gent, belgium, hoplr, nmbs, campus, at station, antwerp, wel, nightlife hoplr, \n",
      "\n",
      "Cluster 4 cities:\n",
      "Ghent, Kortrijk, Antwerp, Bruges, Mechelen, \n",
      "\n"
     ]
    }
   ],
   "source": [
    "# features per cluster\n",
    "order_centroids = km.cluster_centers_.argsort()[:, ::-1] \n",
    "\n",
    "for i in range(num_cls):\n",
    "    print(\"Cluster {} words:\".format(i), end='')\n",
    "    print()\n",
    "    \n",
    "    # print the top 10 words that are nearest to the centroid\n",
    "    for ind in order_centroids[i, :10]: \n",
    "        print('{}'.format(features[ind]), end=', ')\n",
    "    print()\n",
    "    print()\n",
    "    \n",
    "    print(\"Cluster {} cities:\".format(i), end='')\n",
    "    print()\n",
    "    try:\n",
    "        for title in df_km.ix[i]['city'].values.tolist():\n",
    "            print('{}'.format(title), end=', ')\n",
    "    except:\n",
    "        print('{}'.format(df_km.ix[i]['city']))\n",
    "    print()\n",
    "    print()\n"
   ]
  },
  {
   "cell_type": "code",
   "execution_count": 20,
   "metadata": {},
   "outputs": [],
   "source": [
    "# calculate distances\n",
    "cos_distance = cosine_distances(M)"
   ]
  },
  {
   "cell_type": "code",
   "execution_count": 21,
   "metadata": {
    "collapsed": true
   },
   "outputs": [],
   "source": [
    "mds = MDS(n_components=2, dissimilarity=\"precomputed\", random_state=1)\n",
    "pos = mds.fit_transform(cos_distance)  # shape (n_components, n_samples)\n",
    "mds_xs, mds_ys = pos[:, 0], pos[:, 1]"
   ]
  },
  {
   "cell_type": "code",
   "execution_count": 22,
   "metadata": {},
   "outputs": [],
   "source": [
    "# pca = PCA(n_components=2)\n",
    "# M_bar = pca.fit_transform(M)\n",
    "# pca_xs, pca_ys = M_bar[:,0], M_bar[:,1]"
   ]
  },
  {
   "cell_type": "code",
   "execution_count": 23,
   "metadata": {},
   "outputs": [
    {
     "data": {
      "image/png": "[encoded data removed]",
      "text/plain": [
       "<matplotlib.figure.Figure at 0x7ff9f28207f0>"
      ]
     },
     "metadata": {},
     "output_type": "display_data"
    }
   ],
   "source": [
    "# plot\n",
    "cluster_names = {0 : '', 1 : '1', 2 : '2', 3 : '3', 4 : '4', 5 : '5', 6 : '6', 7 : '7', 8 : '8', 9 : '9'}\n",
    "cluster_colors = {0: '#1b9e77', 1: '#d95f02', 2: '#7570b3', 3: '#e7298a', 4: '#66a61e'}\n",
    "#create data frame that has the result of the MDS plus the cluster numbers and titles\n",
    "df = pd.DataFrame(dict(x=mds_xs, y=mds_ys, label=clusters, title=names)) \n",
    "\n",
    "#group by cluster\n",
    "groups = df.groupby('label')\n",
    "\n",
    "fig, ax = plt.subplots(figsize=(24, 12))\n",
    "for name, group in groups:\n",
    "    ax.plot(group.x, group.y, marker='o', linestyle='', ms=12, \n",
    "            label=cluster_names[name], color=cluster_colors[name])\n",
    "    ax.set_aspect('auto')\n",
    "    ax.tick_params(\\\n",
    "        axis= 'x',          # changes apply to the x-axis\n",
    "        which='both',      # both major and minor ticks are affected\n",
    "        bottom='off',      # ticks along the bottom edge are off\n",
    "        top='off',         # ticks along the top edge are off\n",
    "        labelbottom='off')\n",
    "    ax.tick_params(axis='y', which='both', bottom='off', top='off',labelbottom='off')\n",
    "\n",
    "# ax.legend(numpoints=1)\n",
    "\n",
    "#add labels\n",
    "for i in range(len(df)):\n",
    "    ax.text(df.ix[i]['x'], df.ix[i]['y'], df.ix[i]['title'], size=12)  \n",
    "\n",
    "\n",
    "\n",
    "plt.savefig('../data/clusters.jpg', dpi=400)    \n",
    "\n",
    "plt.show()\n",
    "\n"
   ]
  },
  {
   "cell_type": "code",
   "execution_count": 24,
   "metadata": {},
   "outputs": [
    {
     "ename": "NameError",
     "evalue": "name 'pca' is not defined",
     "output_type": "error",
     "traceback": [
      "\u001b[1;31m---------------------------------------------------------------------------\u001b[0m",
      "\u001b[1;31mNameError\u001b[0m                                 Traceback (most recent call last)",
      "\u001b[1;32m<ipython-input-24-2ec7d48ab78e>\u001b[0m in \u001b[0;36m<module>\u001b[1;34m()\u001b[0m\n\u001b[1;32m----> 1\u001b[1;33m \u001b[0mloadings\u001b[0m\u001b[1;33m(\u001b[0m\u001b[0mngram_vec\u001b[0m\u001b[1;33m,\u001b[0m \u001b[0mpca\u001b[0m\u001b[1;33m)\u001b[0m\u001b[1;33m\u001b[0m\u001b[0m\n\u001b[0m",
      "\u001b[1;31mNameError\u001b[0m: name 'pca' is not defined"
     ]
    }
   ],
   "source": [
    "# loadings(ngram_vec, pca)"
   ]
  },
  {
   "cell_type": "code",
   "execution_count": null,
   "metadata": {},
   "outputs": [],
   "source": [
    "from scipy.cluster.hierarchy import ward, dendrogram\n",
    "\n",
    "linkage_matrix = ward(cos_distance)\n",
    "\n",
    "fig, ax = plt.subplots(figsize=(10, 8))\n",
    "ax = dendrogram(linkage_matrix, orientation=\"right\", labels=names);\n",
    "\n",
    "plt.tick_params(axis= 'x', which='both', bottom='off',top='off',labelbottom='off')\n",
    "\n",
    "plt.tight_layout() #show plot with tight layout\n",
    "\n",
    "#uncomment below to save figure\n",
    "plt.savefig('5-clusters_dendrogram', dpi=200) #save figure as ward_clusters"
   ]
  },
  {
   "cell_type": "code",
   "execution_count": null,
   "metadata": {
    "collapsed": true
   },
   "outputs": [],
   "source": []
  }
 ],
 "metadata": {
  "kernelspec": {
   "display_name": "Python 3",
   "language": "python",
   "name": "python3"
  },
  "language_info": {
   "codemirror_mode": {
    "name": "ipython",
    "version": 3
   },
   "file_extension": ".py",
   "mimetype": "text/x-python",
   "name": "python",
   "nbconvert_exporter": "python",
   "pygments_lexer": "ipython3",
   "version": "3.6.1"
  }
 },
 "nbformat": 4,
 "nbformat_minor": 1
}
